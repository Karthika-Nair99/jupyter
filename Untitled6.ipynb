{
 "cells": [
  {
   "cell_type": "code",
   "execution_count": 1,
   "metadata": {},
   "outputs": [
    {
     "name": "stdout",
     "output_type": "stream",
     "text": [
      "2\n"
     ]
    }
   ],
   "source": [
    "def fun():\n",
    "    \"\"\"this function is created to multiply two values\"\"\"\n",
    "    x=1\n",
    "    y=2\n",
    "    return x * y\n",
    "print(fun())"
   ]
  },
  {
   "cell_type": "code",
   "execution_count": 2,
   "metadata": {},
   "outputs": [
    {
     "name": "stdout",
     "output_type": "stream",
     "text": [
      "10\n",
      "10\n",
      "hello\n",
      "10\n"
     ]
    }
   ],
   "source": [
    "f = 10\n",
    "print(f)\n",
    "\n",
    "def fun():\n",
    "    f = 'hello'\n",
    "    print(f)\n",
    "\n",
    "print(f)\n",
    "fun()\n",
    "print(f)"
   ]
  },
  {
   "cell_type": "code",
   "execution_count": 4,
   "metadata": {},
   "outputs": [
    {
     "name": "stdout",
     "output_type": "stream",
     "text": [
      "inside the function 6\n",
      "outside the function 3\n",
      "Hari\n",
      "sheela\n",
      "Prasanna\n",
      "Mohan\n"
     ]
    }
   ],
   "source": [
    "def funabc():\n",
    "    x=6\n",
    "    print(\"inside the function\",x)\n",
    "x=3\n",
    "funabc()\n",
    "print(\"outside the function\",x)\n",
    "\n",
    "def strfun(*enames):\n",
    "    \"\"\" this function displays the names\"\"\"\n",
    "    for name in enames:\n",
    "        print(name)\n",
    "strfun(\"Hari\",\"sheela\",\"Prasanna\",\"Mohan\")"
   ]
  },
  {
   "cell_type": "code",
   "execution_count": 6,
   "metadata": {},
   "outputs": [
    {
     "name": "stdout",
     "output_type": "stream",
     "text": [
      "sum of two numbers is  150\n"
     ]
    }
   ],
   "source": [
    "def sum(x,y):\n",
    "\t\"going to add two numbers\"\n",
    "\ts=x+y\n",
    "\tprint (\"sum of two numbers is \",s)\n",
    "sum(100,50)"
   ]
  },
  {
   "cell_type": "code",
   "execution_count": 7,
   "metadata": {},
   "outputs": [
    {
     "name": "stdout",
     "output_type": "stream",
     "text": [
      " x + y 50\n"
     ]
    },
    {
     "data": {
      "text/plain": [
       "50"
      ]
     },
     "execution_count": 7,
     "metadata": {},
     "output_type": "execute_result"
    }
   ],
   "source": [
    "def fun2(x,y):\n",
    "\tprint (\" x + y\",x +y)\n",
    "\treturn x + y\n",
    "fun2(20,30)"
   ]
  },
  {
   "cell_type": "code",
   "execution_count": 13,
   "metadata": {},
   "outputs": [
    {
     "name": "stdout",
     "output_type": "stream",
     "text": [
      "Adding the two values\n",
      "Printing within Function\n",
      "30\n",
      "Printing Outside: ? 30\n",
      "Hello\n",
      "Rest of code\n"
     ]
    }
   ],
   "source": [
    "def sum(a,b):  \n",
    "            print(\"Adding the two values\")   \n",
    "            print(\"Printing within Function\")  \n",
    "            print (a+b)\n",
    "            return a+b  \n",
    "def msg():  \n",
    "            print (\"Hello\")\n",
    "            return  \n",
    "total=sum(10,20)  \n",
    "print ('Printing Outside: ?',total)\n",
    "msg()  \n",
    "print (\"Rest of code\")"
   ]
  },
  {
   "cell_type": "code",
   "execution_count": 14,
   "metadata": {},
   "outputs": [
    {
     "name": "stdout",
     "output_type": "stream",
     "text": [
      "0 1 1 2 3 5 8 13 21 34 55 89 144 233 377 610 987 1597 \n"
     ]
    }
   ],
   "source": [
    "def fib(n):    # write Fibonacci series up to n\n",
    "...     \"\"\"Print a Fibonacci series up to n.\"\"\"\n",
    "...     a, b = 0, 1\n",
    "...     while a < n:\n",
    "...         print(a, end=' ')\n",
    "...         a, b = b, a+b\n",
    "...     print()\n",
    "...\n",
    ">>> # Now call the function we just defined:\n",
    "... fib(2000)"
   ]
  },
  {
   "cell_type": "code",
   "execution_count": 17,
   "metadata": {},
   "outputs": [
    {
     "name": "stdout",
     "output_type": "stream",
     "text": [
      "Hello, paul. Good morning!\n",
      "This function greets to\n",
      "\tthe person passed in as\n",
      "\tparameter\n"
     ]
    }
   ],
   "source": [
    "def greet(name):\n",
    "\n",
    "    \"\"\"This function greets to\n",
    "\tthe person passed in as\n",
    "\tparameter\"\"\"\n",
    "    print(\"Hello, \" + name + \". Good morning!\")\n",
    "greet('paul')\n",
    "print(greet.__doc__)"
   ]
  },
  {
   "cell_type": "code",
   "execution_count": 32,
   "metadata": {},
   "outputs": [
    {
     "name": "stdout",
     "output_type": "stream",
     "text": [
      "2\n",
      "2\n"
     ]
    }
   ],
   "source": [
    "def absolute_value(num):\n",
    "    \"\"\"This function returns the absolute\n",
    "value of the entered number\"\"\"\n",
    "\n",
    "    if num >= 0:\n",
    "        return num\n",
    "\n",
    "    else:\n",
    "        return -num\n",
    "\n",
    "# Output: 2\n",
    "\n",
    "print(absolute_value(2))\n",
    "\n",
    "print(absolute_value(-2))\n"
   ]
  },
  {
   "cell_type": "code",
   "execution_count": 33,
   "metadata": {},
   "outputs": [
    {
     "name": "stdout",
     "output_type": "stream",
     "text": [
      "Hello Monica, Good morning!\n"
     ]
    }
   ],
   "source": [
    "def greet(name,msg):\n",
    "    print(\"Hello\",name + ', ' + msg)\n",
    "greet(\"Monica\",\"Good morning!\")"
   ]
  },
  {
   "cell_type": "code",
   "execution_count": 34,
   "metadata": {},
   "outputs": [
    {
     "name": "stdout",
     "output_type": "stream",
     "text": [
      "Hello Kate, Good morning!\n",
      "Hello Bruce, How do you do?\n"
     ]
    }
   ],
   "source": [
    "def greet(name, msg = \"Good morning!\"):\n",
    "    print(\"Hello\",name + ', ' + msg)\n",
    "\n",
    "greet(\"Kate\")\n",
    "\n",
    "greet(\"Bruce\",\"How do you do?\")\n"
   ]
  },
  {
   "cell_type": "code",
   "execution_count": 36,
   "metadata": {},
   "outputs": [
    {
     "name": "stdout",
     "output_type": "stream",
     "text": [
      "I'm first call to user defined function!\n",
      "Again second call to the same function\n"
     ]
    }
   ],
   "source": [
    "def printme( str ):\n",
    "    print (str)\n",
    "    return;\n",
    "printme(\"I'm first call to user defined function!\")\n",
    "printme(\"Again second call to the same function\")"
   ]
  },
  {
   "cell_type": "code",
   "execution_count": 38,
   "metadata": {},
   "outputs": [
    {
     "name": "stdout",
     "output_type": "stream",
     "text": [
      "Values inside the function:  [10, 20, 30, [1, 2, 3, 4]]\n",
      "Values outside the function:  [10, 20, 30, [1, 2, 3, 4]]\n"
     ]
    }
   ],
   "source": [
    "def changeme( mylist ):\n",
    "    mylist.append([1,2,3,4]);\n",
    "    print (\"Values inside the function: \", mylist)\n",
    "    return\n",
    "\n",
    "mylist = [10,20,30];\n",
    "changeme( mylist );\n",
    "print(\"Values outside the function: \", mylist)"
   ]
  },
  {
   "cell_type": "code",
   "execution_count": 39,
   "metadata": {},
   "outputs": [
    {
     "name": "stdout",
     "output_type": "stream",
     "text": [
      "Values inside the function:  [1, 2, 3, 4]\n",
      "Values outside the function:  [10, 20, 30]\n"
     ]
    }
   ],
   "source": [
    "def changeme( mylist ):\n",
    "    mylist = [1,2,3,4]; \n",
    "    print(\"Values inside the function: \", mylist)\n",
    "    return\n",
    "mylist = [10,20,30];\n",
    "changeme( mylist );\n",
    "print (\"Values outside the function: \", mylist)\n"
   ]
  },
  {
   "cell_type": "code",
   "execution_count": 41,
   "metadata": {},
   "outputs": [
    {
     "ename": "TypeError",
     "evalue": "printme() missing 1 required positional argument: 'str'",
     "output_type": "error",
     "traceback": [
      "\u001b[1;31m---------------------------------------------------------------------------\u001b[0m",
      "\u001b[1;31mTypeError\u001b[0m                                 Traceback (most recent call last)",
      "\u001b[1;32m<ipython-input-41-1c1f9563831f>\u001b[0m in \u001b[0;36m<module>\u001b[1;34m\u001b[0m\n\u001b[0;32m      3\u001b[0m     \u001b[0mprint\u001b[0m \u001b[1;33m(\u001b[0m\u001b[0mstr\u001b[0m\u001b[1;33m)\u001b[0m\u001b[1;33m\u001b[0m\u001b[1;33m\u001b[0m\u001b[0m\n\u001b[0;32m      4\u001b[0m     \u001b[1;32mreturn\u001b[0m\u001b[1;33m;\u001b[0m\u001b[1;33m\u001b[0m\u001b[1;33m\u001b[0m\u001b[0m\n\u001b[1;32m----> 5\u001b[1;33m \u001b[0mprintme\u001b[0m\u001b[1;33m(\u001b[0m\u001b[1;33m)\u001b[0m\u001b[1;33m\u001b[0m\u001b[1;33m\u001b[0m\u001b[0m\n\u001b[0m",
      "\u001b[1;31mTypeError\u001b[0m: printme() missing 1 required positional argument: 'str'"
     ]
    }
   ],
   "source": [
    "def printme( str ):\n",
    "   \n",
    "    print (str)\n",
    "    return;\n",
    "printme()"
   ]
  },
  {
   "cell_type": "code",
   "execution_count": 42,
   "metadata": {},
   "outputs": [
    {
     "name": "stdout",
     "output_type": "stream",
     "text": [
      "My string\n"
     ]
    }
   ],
   "source": [
    "def printme( str ):\n",
    "    print (str)\n",
    "    return;\n",
    "printme( str = \"My string\")"
   ]
  },
  {
   "cell_type": "code",
   "execution_count": 43,
   "metadata": {},
   "outputs": [
    {
     "name": "stdout",
     "output_type": "stream",
     "text": [
      "Name:  miki\n",
      "Age  50\n"
     ]
    }
   ],
   "source": [
    "def printinfo( name, age ):\n",
    "    print (\"Name: \", name) \n",
    "    print (\"Age \", age)\n",
    "    return;\n",
    "\n",
    "# Now you can call printinfo function\n",
    "printinfo( age=50, name=\"miki\" )"
   ]
  },
  {
   "cell_type": "code",
   "execution_count": 45,
   "metadata": {},
   "outputs": [
    {
     "name": "stdout",
     "output_type": "stream",
     "text": [
      "Name:  miki\n",
      "Age  50\n",
      "Name:  miki\n",
      "Age  35\n"
     ]
    }
   ],
   "source": [
    "def printinfo( name, age = 35 ):\n",
    "   \n",
    "    print (\"Name: \", name)\n",
    "    print (\"Age \", age)\n",
    "    return;\n",
    "\n",
    "# Now you can call printinfo function\n",
    "printinfo( age=50, name=\"miki\" )\n",
    "printinfo( name=\"miki\" )\n"
   ]
  },
  {
   "cell_type": "code",
   "execution_count": 53,
   "metadata": {},
   "outputs": [
    {
     "name": "stdout",
     "output_type": "stream",
     "text": [
      "Output is: \n",
      "arg1\n",
      "xxx\n",
      "10\n",
      "45\n"
     ]
    }
   ],
   "source": [
    "def printinfo( arg1, *vartuple ):\n",
    "   \n",
    "    print( \"Output is: \")\n",
    "    print (arg1)\n",
    "    for var in vartuple:\n",
    "        print(var)\n",
    "    return;\n",
    "\n",
    "printinfo('arg1','xxx',10,45)\n"
   ]
  },
  {
   "cell_type": "code",
   "execution_count": 54,
   "metadata": {},
   "outputs": [
    {
     "name": "stdout",
     "output_type": "stream",
     "text": [
      "Hello Monica\n",
      "Hello Luke\n",
      "Hello Steve\n",
      "Hello John\n",
      "Output is: \n",
      "10\n",
      "Output is: \n",
      "70\n",
      "60\n",
      "50\n"
     ]
    }
   ],
   "source": [
    "def greet(*names):\n",
    "    for name in names:\n",
    "        print(\"Hello\",name)\n",
    "\n",
    "greet(\"Monica\",\"Luke\",\"Steve\",\"John\")\n",
    "\n",
    "\n",
    "# Now you can call printinfo function\n",
    "printinfo( 10 )\n",
    "printinfo( 70, 60, 50 )"
   ]
  },
  {
   "cell_type": "code",
   "execution_count": 56,
   "metadata": {},
   "outputs": [
    {
     "name": "stdout",
     "output_type": "stream",
     "text": [
      "Value of total :  30\n",
      "Value of total :  40\n",
      "10\n"
     ]
    }
   ],
   "source": [
    "sum = lambda arg1, arg2: arg1 + arg2;\n",
    "\n",
    " \n",
    "\n",
    "# Now you can call sum as a function\n",
    "print(\"Value of total : \", sum( 10, 20 ))\n",
    "print (\"Value of total : \", sum( 20, 20 ))\n",
    "\n",
    "\n",
    "double = lambda x : x * 2\n",
    "print(double(5))\n"
   ]
  },
  {
   "cell_type": "code",
   "execution_count": 58,
   "metadata": {},
   "outputs": [
    {
     "name": "stdout",
     "output_type": "stream",
     "text": [
      "Inside the function :  30\n",
      "Outside the function :  30\n"
     ]
    }
   ],
   "source": [
    "def sum( arg1, arg2 ):\n",
    "    total = arg1 + arg2\n",
    "    print( \"Inside the function : \", total)\n",
    "    return total;\n",
    "\n",
    "# Now you can call sum function\n",
    "total = sum( 10, 20 );\n",
    "print (\"Outside the function : \", total )\n"
   ]
  },
  {
   "cell_type": "code",
   "execution_count": 59,
   "metadata": {},
   "outputs": [
    {
     "name": "stdout",
     "output_type": "stream",
     "text": [
      "Inside the function local total :  30\n",
      "Outside the function global total :  0\n"
     ]
    }
   ],
   "source": [
    "total = 0; # This is global variable.\n",
    "\n",
    "def sum( arg1, arg2 ):\n",
    "    total = arg1 + arg2; # Here total is local variable.\n",
    "    print(\"Inside the function local total : \", total)\n",
    "    return total;\n",
    "\n",
    "# Now you can call sum function\n",
    "sum( 10, 20 );\n",
    "print (\"Outside the function global total : \", total) \n"
   ]
  },
  {
   "cell_type": "code",
   "execution_count": 60,
   "metadata": {},
   "outputs": [
    {
     "name": "stdout",
     "output_type": "stream",
     "text": [
      "The factorial of 4 is 24\n"
     ]
    }
   ],
   "source": [
    "def calc_factorial(x):\n",
    "    \"\"\"This is a recursive function\n",
    "    to find the factorial of an integer\"\"\"\n",
    "\n",
    "    if x == 1:\n",
    "        return 1\n",
    "    else:\n",
    "        return (x * calc_factorial(x-1))\n",
    "\n",
    "num = 4\n",
    "print(\"The factorial of\", num, \"is\", calc_factorial(num))\n"
   ]
  },
  {
   "cell_type": "code",
   "execution_count": 67,
   "metadata": {},
   "outputs": [
    {
     "name": "stdout",
     "output_type": "stream",
     "text": [
      "['A', 'B', 'C']\n",
      "['Y', 'X']\n"
     ]
    }
   ],
   "source": [
    "def fun(list123):\n",
    "    list123=['A','B','C']\n",
    "    return list123\n",
    "\n",
    "def addlist123(list123):\n",
    "    list123.append('X')\n",
    "    return list123\n",
    "\n",
    "listxyz=['Y']\n",
    "\n",
    "print(fun(listxyz))\n",
    "\n",
    "print(addlist123(listxyz))\n",
    "\n",
    "\n",
    "mylist=[\"a\",\"b\"]"
   ]
  },
  {
   "cell_type": "code",
   "execution_count": 68,
   "metadata": {},
   "outputs": [
    {
     "name": "stdout",
     "output_type": "stream",
     "text": [
      "1\n"
     ]
    }
   ],
   "source": [
    "c = 1 # global variable\n",
    "\n",
    "def add():\n",
    "    print(c)\n",
    "\n",
    "add()"
   ]
  },
  {
   "cell_type": "code",
   "execution_count": 69,
   "metadata": {},
   "outputs": [
    {
     "ename": "UnboundLocalError",
     "evalue": "local variable 'c' referenced before assignment",
     "output_type": "error",
     "traceback": [
      "\u001b[1;31m---------------------------------------------------------------------------\u001b[0m",
      "\u001b[1;31mUnboundLocalError\u001b[0m                         Traceback (most recent call last)",
      "\u001b[1;32m<ipython-input-69-10710404b9bd>\u001b[0m in \u001b[0;36m<module>\u001b[1;34m\u001b[0m\n\u001b[0;32m      5\u001b[0m     \u001b[0mprint\u001b[0m\u001b[1;33m(\u001b[0m\u001b[0mc\u001b[0m\u001b[1;33m)\u001b[0m\u001b[1;33m\u001b[0m\u001b[1;33m\u001b[0m\u001b[0m\n\u001b[0;32m      6\u001b[0m \u001b[1;33m\u001b[0m\u001b[0m\n\u001b[1;32m----> 7\u001b[1;33m \u001b[0madd\u001b[0m\u001b[1;33m(\u001b[0m\u001b[1;33m)\u001b[0m\u001b[1;33m\u001b[0m\u001b[1;33m\u001b[0m\u001b[0m\n\u001b[0m",
      "\u001b[1;32m<ipython-input-69-10710404b9bd>\u001b[0m in \u001b[0;36madd\u001b[1;34m()\u001b[0m\n\u001b[0;32m      2\u001b[0m \u001b[1;33m\u001b[0m\u001b[0m\n\u001b[0;32m      3\u001b[0m \u001b[1;32mdef\u001b[0m \u001b[0madd\u001b[0m\u001b[1;33m(\u001b[0m\u001b[1;33m)\u001b[0m\u001b[1;33m:\u001b[0m\u001b[1;33m\u001b[0m\u001b[1;33m\u001b[0m\u001b[0m\n\u001b[1;32m----> 4\u001b[1;33m     \u001b[0mc\u001b[0m \u001b[1;33m=\u001b[0m \u001b[0mc\u001b[0m \u001b[1;33m+\u001b[0m \u001b[1;36m2\u001b[0m \u001b[1;31m# increment c by 2\u001b[0m\u001b[1;33m\u001b[0m\u001b[1;33m\u001b[0m\u001b[0m\n\u001b[0m\u001b[0;32m      5\u001b[0m     \u001b[0mprint\u001b[0m\u001b[1;33m(\u001b[0m\u001b[0mc\u001b[0m\u001b[1;33m)\u001b[0m\u001b[1;33m\u001b[0m\u001b[1;33m\u001b[0m\u001b[0m\n\u001b[0;32m      6\u001b[0m \u001b[1;33m\u001b[0m\u001b[0m\n",
      "\u001b[1;31mUnboundLocalError\u001b[0m: local variable 'c' referenced before assignment"
     ]
    }
   ],
   "source": [
    "c = 1 # global variable\n",
    "    \n",
    "def add():\n",
    "    c = c + 2 # increment c by 2\n",
    "    print(c)\n",
    "\n",
    "add()"
   ]
  },
  {
   "cell_type": "code",
   "execution_count": 70,
   "metadata": {},
   "outputs": [
    {
     "name": "stdout",
     "output_type": "stream",
     "text": [
      "Inside add(): 2\n",
      "In main: 2\n"
     ]
    }
   ],
   "source": [
    "c = 0 # global variable\n",
    "\n",
    "def add():\n",
    "    global c\n",
    "    c = c + 2 # increment by 2\n",
    "    print(\"Inside add():\", c)\n",
    "\n",
    "add()\n",
    "print(\"In main:\", c)"
   ]
  },
  {
   "cell_type": "code",
   "execution_count": 74,
   "metadata": {},
   "outputs": [
    {
     "name": "stdout",
     "output_type": "stream",
     "text": [
      "Before calling Hi:  3\n",
      "Calling Hi now\n"
     ]
    },
    {
     "ename": "NameError",
     "evalue": "name 'Hi' is not defined",
     "output_type": "error",
     "traceback": [
      "\u001b[1;31m---------------------------------------------------------------------------\u001b[0m",
      "\u001b[1;31mNameError\u001b[0m                                 Traceback (most recent call last)",
      "\u001b[1;32m<ipython-input-74-5fa2e1948fa4>\u001b[0m in \u001b[0;36m<module>\u001b[1;34m\u001b[0m\n\u001b[0;32m     13\u001b[0m \u001b[0mprint\u001b[0m\u001b[1;33m(\u001b[0m\u001b[1;34m\"Before calling Hi: \"\u001b[0m\u001b[1;33m,\u001b[0m \u001b[0mx\u001b[0m\u001b[1;33m)\u001b[0m\u001b[1;33m\u001b[0m\u001b[1;33m\u001b[0m\u001b[0m\n\u001b[0;32m     14\u001b[0m \u001b[0mprint\u001b[0m\u001b[1;33m(\u001b[0m\u001b[1;34m\"Calling Hi now\"\u001b[0m\u001b[1;33m)\u001b[0m\u001b[1;33m\u001b[0m\u001b[1;33m\u001b[0m\u001b[0m\n\u001b[1;32m---> 15\u001b[1;33m \u001b[0mHi\u001b[0m\u001b[1;33m(\u001b[0m\u001b[1;33m)\u001b[0m\u001b[1;33m\u001b[0m\u001b[1;33m\u001b[0m\u001b[0m\n\u001b[0m\u001b[0;32m     16\u001b[0m \u001b[0mprint\u001b[0m\u001b[1;33m(\u001b[0m\u001b[1;34m\"After calling Hi: \"\u001b[0m\u001b[1;33m,\u001b[0m \u001b[0mx\u001b[0m\u001b[1;33m)\u001b[0m\u001b[1;33m\u001b[0m\u001b[1;33m\u001b[0m\u001b[0m\n\u001b[0;32m     17\u001b[0m \u001b[1;33m\u001b[0m\u001b[0m\n",
      "\u001b[1;31mNameError\u001b[0m: name 'Hi' is not defined"
     ]
    }
   ],
   "source": [
    "def Hello():\n",
    "   \n",
    "    x = 20\n",
    "\n",
    " \n",
    "\n",
    "    def Hi():\n",
    "     \n",
    "        global x\n",
    "     \n",
    "        x = 25\n",
    "    \n",
    "print(\"Before calling Hi: \", x)\n",
    "print(\"Calling Hi now\")\n",
    "Hi()\n",
    "print(\"After calling Hi: \", x)\n",
    "\n",
    "\n",
    "Hello()\n",
    "\n",
    "print(\"x in main : \", x)\n",
    "\n"
   ]
  },
  {
   "cell_type": "code",
   "execution_count": 75,
   "metadata": {},
   "outputs": [
    {
     "name": "stdout",
     "output_type": "stream",
     "text": [
      "Calling Hi now\n",
      "x in Hello :  20\n",
      "x in Hi:  25\n",
      "this is the x value 20\n"
     ]
    }
   ],
   "source": [
    "def Hello():\n",
    "    x = 20\n",
    "    print(\"x in Hello : \", x)\n",
    "\n",
    "    def Hi():\n",
    "        global x\n",
    "        #print(\"x in Hi: \", x)\n",
    "        x = 25\n",
    "        print(\"x in Hi: \", x)\n",
    "    Hi()\n",
    "    print('this is the x value',x)\n",
    "#print(\"Before calling Hi: \", x)\n",
    "\n",
    "print(\"Calling Hi now\")\n",
    "#print(\"After calling Hi: \", x)\n",
    "\n",
    "Hello()\n",
    "\n",
    "#print(\"x in main : \", x)"
   ]
  },
  {
   "cell_type": "code",
   "execution_count": 76,
   "metadata": {},
   "outputs": [
    {
     "data": {
      "text/plain": [
       "['C:\\\\Users\\\\Karthika V. Nair',\n",
       " 'C:\\\\Users\\\\Karthika V. Nair\\\\Anaconda3\\\\python37.zip',\n",
       " 'C:\\\\Users\\\\Karthika V. Nair\\\\Anaconda3\\\\DLLs',\n",
       " 'C:\\\\Users\\\\Karthika V. Nair\\\\Anaconda3\\\\lib',\n",
       " 'C:\\\\Users\\\\Karthika V. Nair\\\\Anaconda3',\n",
       " '',\n",
       " 'C:\\\\Users\\\\Karthika V. Nair\\\\Anaconda3\\\\lib\\\\site-packages',\n",
       " 'C:\\\\Users\\\\Karthika V. Nair\\\\Anaconda3\\\\lib\\\\site-packages\\\\win32',\n",
       " 'C:\\\\Users\\\\Karthika V. Nair\\\\Anaconda3\\\\lib\\\\site-packages\\\\win32\\\\lib',\n",
       " 'C:\\\\Users\\\\Karthika V. Nair\\\\Anaconda3\\\\lib\\\\site-packages\\\\Pythonwin',\n",
       " 'C:\\\\Users\\\\Karthika V. Nair\\\\Anaconda3\\\\lib\\\\site-packages\\\\IPython\\\\extensions',\n",
       " 'C:\\\\Users\\\\Karthika V. Nair\\\\.ipython']"
      ]
     },
     "execution_count": 76,
     "metadata": {},
     "output_type": "execute_result"
    }
   ],
   "source": [
    "import sys\n",
    "sys.path\n"
   ]
  },
  {
   "cell_type": "code",
   "execution_count": 1,
   "metadata": {},
   "outputs": [
    {
     "ename": "ModuleNotFoundError",
     "evalue": "No module named 'stddraw'",
     "output_type": "error",
     "traceback": [
      "\u001b[1;31m---------------------------------------------------------------------------\u001b[0m",
      "\u001b[1;31mModuleNotFoundError\u001b[0m                       Traceback (most recent call last)",
      "\u001b[1;32m<ipython-input-1-bd24a25a6cbf>\u001b[0m in \u001b[0;36m<module>\u001b[1;34m\u001b[0m\n\u001b[1;32m----> 1\u001b[1;33m \u001b[1;32mimport\u001b[0m \u001b[0mstddraw\u001b[0m\u001b[1;33m\u001b[0m\u001b[1;33m\u001b[0m\u001b[0m\n\u001b[0m\u001b[0;32m      2\u001b[0m \u001b[1;32mimport\u001b[0m \u001b[0msys\u001b[0m\u001b[1;33m\u001b[0m\u001b[1;33m\u001b[0m\u001b[0m\n\u001b[0;32m      3\u001b[0m \u001b[1;32mimport\u001b[0m \u001b[0mmath\u001b[0m\u001b[1;33m\u001b[0m\u001b[1;33m\u001b[0m\u001b[0m\n\u001b[0;32m      4\u001b[0m \u001b[1;33m\u001b[0m\u001b[0m\n\u001b[0;32m      5\u001b[0m \u001b[1;31m# Accept integer command-line argument n. Draw an n petal rose (if n\u001b[0m\u001b[1;33m\u001b[0m\u001b[1;33m\u001b[0m\u001b[1;33m\u001b[0m\u001b[0m\n",
      "\u001b[1;31mModuleNotFoundError\u001b[0m: No module named 'stddraw'"
     ]
    }
   ],
   "source": [
    "import stddraw\n",
    "import sys\n",
    "import math\n",
    "\n",
    "# Accept integer command-line argument n. Draw an n petal rose (if n\n",
    "# is odd) and a 2n petal rose (if n is even).\n",
    "\n",
    "n = int(sys.argv[1])\n",
    "stddraw.setXscale(-1, +1)\n",
    "stddraw.setYscale(-1, +1)\n",
    "stddraw.setPenColor(stddraw.PINK)\n",
    "\n",
    "x0 = 0.0\n",
    "y0 = 0.0\n",
    "\n",
    "t = 0.0\n",
    "while t <= 360.0:\n",
    "    theta = math.radians(t)\n",
    "    r = math.sin(n * theta)\n",
    "    x1 = r * math.cos(theta)\n",
    "    y1 = r * math.sin(theta)\n",
    "    stddraw.line(x0, y0, x1, y1)\n",
    "    x0 = x1\n",
    "    y0 = y1\n",
    "    t += 0.1\n",
    "stddraw.show()"
   ]
  },
  {
   "cell_type": "code",
   "execution_count": 5,
   "metadata": {},
   "outputs": [
    {
     "name": "stdout",
     "output_type": "stream",
     "text": [
      " the person is Swarnandra\n",
      " the person is Swarnandra\n",
      " nikitha is 22 years old \n",
      " suman is 23 years old \n"
     ]
    }
   ],
   "source": [
    "class Person:\n",
    "    #class attributes\n",
    "    college=\"Swarnandra\"\n",
    "    #instance attributes\n",
    "    def __init__(self,name,age):\n",
    "        self.name=name\n",
    "        self.age=age\n",
    "\n",
    "#instantiation of the class\n",
    "\n",
    "obj1=Person(\"nikitha\",22)\n",
    "obj2=Person(\"suman\",23)\n",
    "\n",
    "print(\" the person is {}\".format(obj1.__class__.college))\n",
    "\n",
    "print(\" the person is {}\".format(obj2.__class__.college))\n",
    "\n",
    "#access the instance attributes\n",
    "print(\" {} is {} years old \".format(obj1.name,obj1.age))\n",
    "print(\" {} is {} years old \".format(obj2.name,obj2.age))"
   ]
  },
  {
   "cell_type": "code",
   "execution_count": 10,
   "metadata": {},
   "outputs": [
    {
     "name": "stdout",
     "output_type": "stream",
     "text": [
      "Jane\n",
      "jane.doe@example.com\n",
      "29\n",
      "6\n",
      "3\n"
     ]
    }
   ],
   "source": [
    "import datetime \n",
    "class Person:\n",
    "    def __init__(self, name, surname, birthdate, address, telephone, email):\n",
    "        self.name = name\n",
    "        self.surname = surname\n",
    "        self.birthdate = birthdate\n",
    "        self.address = address\n",
    "        self.telephone = telephone\n",
    "        self.email = email\n",
    "    def age(self):\n",
    "        today = datetime.date.today()\n",
    "        age = today.year - self.birthdate.year\n",
    "        if today < datetime.date(today.year, self.birthdate.month, self.birthdate.day):\n",
    "            age -= 1\n",
    "        return age\n",
    "person = Person(\n",
    "    \"Jane\",\n",
    "    \"Doe\",\n",
    "    datetime.date(1992, 3, 12), # year, month, day\n",
    "\"No. 12 Short Street, Greenville\",\n",
    "    \"555 456 0987\",\n",
    "    \"jane.doe@example.com\"\n",
    ")\n",
    "print(person.name)\n",
    "print(person.email)\n",
    "print(person.age())\n",
    "\n",
    "print(len(\"python\"))\n",
    "print(len([\"python\",\"c\",\"java\"]))\n"
   ]
  },
  {
   "cell_type": "code",
   "execution_count": 22,
   "metadata": {},
   "outputs": [
    {
     "name": "stdout",
     "output_type": "stream",
     "text": [
      "8\n",
      "12\n"
     ]
    }
   ],
   "source": [
    "class Rectangle:\n",
    "    def __init__(self,length,breadth):\n",
    "            self.length=length\n",
    "            self.breadth=breadth\n",
    "    def area(self):\n",
    "        return self.length * self.breadth\n",
    "    def perimeter(self):\n",
    "        return 2*(self.length+self.breadth)\n",
    "a=Rectangle(2,4)\n",
    "print(a.area())\n",
    "print(a.perimeter())\n",
    "    "
   ]
  },
  {
   "cell_type": "code",
   "execution_count": 25,
   "metadata": {},
   "outputs": [
    {
     "name": "stdout",
     "output_type": "stream",
     "text": [
      "Hello, my name is James\n",
      "Hello, my name is David\n",
      "Name  = Python Bean\n",
      "Beans = 83\n",
      "Water = 20\n",
      "Name  = Python Bean\n",
      "Beans = 84\n",
      "Water = 20\n"
     ]
    }
   ],
   "source": [
    "class User:\n",
    "    name = \"\"\n",
    "    def __init__(self, name):\n",
    "        self.name = name\n",
    "    def sayHello(self):\n",
    "        print(\"Hello, my name is \" + self.name)\n",
    "\n",
    "# create virtual objects\n",
    "james = User(\"James\")\n",
    "david = User(\"David\")\n",
    "eric = User(\"Eric\")\n",
    "# call methods owned by virtual objects\n",
    "james.sayHello()\n",
    "david.sayHello()\n",
    "\n",
    "# class variables\n",
    "class CoffeeMachine:\n",
    "    name = \"\"\n",
    "    beans = 0\n",
    "    water = 0\n",
    "    def __init__(self, name, beans, water):\n",
    "        self.name = name\n",
    "        self.beans = beans\n",
    "        self.water = water\n",
    "    def addBean(self):\n",
    "        self.beans = self.beans + 1\n",
    "    def removeBean(self):\n",
    "        self.beans = self.beans - 1\n",
    "\n",
    "    def addWater(self):\n",
    "        self.water = self.water + 1\n",
    "\n",
    "    def removeWater(self):\n",
    "        self.water = self.water - 1\n",
    "\n",
    "    def printState(self):\n",
    "        print(\"Name  = \" + self.name)\n",
    "        print(\"Beans = \" + str(self.beans))\n",
    "        print(\"Water = \" + str(self.water))\n",
    "\n",
    "pythonBean = CoffeeMachine(\"Python Bean\", 83, 20)\n",
    "pythonBean.printState()\n",
    "print\n",
    "\"\"\n",
    "pythonBean.addBean()\n",
    "pythonBean.printState()\n"
   ]
  },
  {
   "cell_type": "code",
   "execution_count": 27,
   "metadata": {},
   "outputs": [
    {
     "name": "stdout",
     "output_type": "stream",
     "text": [
      "Name:  Xavier \n",
      "Designation :  technician \n",
      "Age :  32\n",
      "Overtime Allowance :  250\n",
      "Name:  sara \n",
      "Designation :  office Assistance \n",
      "Age :  43\n",
      "Traveling Allowance :  200\n"
     ]
    },
    {
     "data": {
      "text/plain": [
       "<__main__.OfficeStaff at 0x227fed84dd8>"
      ]
     },
     "execution_count": 27,
     "metadata": {},
     "output_type": "execute_result"
    }
   ],
   "source": [
    "class CompanyMember:\n",
    "    '''Represents Company  Member.'''\n",
    "    def __init__(self, name, designation, age):\n",
    "        self.name = name\n",
    "        self.designation = designation\n",
    "        self.age = age\n",
    "    def tell(self):\n",
    "      '''Details of an employee.'''\n",
    "      print('Name: ', self.name,'\\nDesignation : ',self.designation, '\\nAge : ',self.age)\n",
    "class FactoryStaff(CompanyMember):\n",
    "    '''Represents a Factory Staff.'''\n",
    "    def __init__(self, name, designation, age, overtime_allow):\n",
    "        CompanyMember.__init__(self, name, designation, age)\n",
    "        self.overtime_allow = overtime_allow\n",
    "        CompanyMember.tell(self)\n",
    "        print('Overtime Allowance : ',self.overtime_allow)\n",
    "class OfficeStaff(CompanyMember):\n",
    "   '''Represents a Office Staff.'''\n",
    "   def __init__(self, name, designation, age, travelling_allow):\n",
    "        CompanyMember.__init__(self, name, designation, age)\n",
    "        self.marks = travelling_allow\n",
    "        CompanyMember.tell(self)\n",
    "        print('Traveling Allowance : ',self.marks)\n",
    "FactoryStaff('Xavier','technician',32,250)\n",
    "OfficeStaff('sara', 'office Assistance',43,200)\n"
   ]
  },
  {
   "cell_type": "code",
   "execution_count": 23,
   "metadata": {},
   "outputs": [
    {
     "name": "stdout",
     "output_type": "stream",
     "text": [
      "Jane\n",
      "jane.doe@example.com\n",
      "29\n"
     ]
    }
   ],
   "source": [
    "import datetime\n",
    "\n",
    "class Person:\n",
    "\n",
    "    def __init__(self, name, surname, birthdate, address, telephone, email):\n",
    "        self.name = name\n",
    "        self.surname = surname\n",
    "        self.birthdate = birthdate\n",
    "\n",
    "        self.address = address\n",
    "        self.telephone = telephone\n",
    "        self.email = email\n",
    "\n",
    "        # This isn't strictly necessary, but it clearly introduces these attributes\n",
    "        self._age = None\n",
    "        self._age_last_recalculated = None\n",
    "\n",
    "        self._recalculate_age()\n",
    "\n",
    "    def _recalculate_age(self):\n",
    "        today = datetime.date.today()\n",
    "        age = today.year - self.birthdate.year\n",
    "\n",
    "        if today < datetime.date(today.year, self.birthdate.month, self.birthdate.day):\n",
    "            age -= 1\n",
    "\n",
    "        self._age = age\n",
    "        self._age_last_recalculated = today\n",
    "\n",
    "    def age(self):\n",
    "        if (datetime.date.today() > self._age_last_recalculated):\n",
    "            self._recalculate_age()\n",
    "\n",
    "        return self._age\n",
    "\n",
    "\n",
    "    def age(self):\n",
    "        if hasattr(self, \"_age\"):\n",
    "            return self._age\n",
    "\n",
    "        today = datetime.date.today()\n",
    "\n",
    "        age = today.year - self.birthdate.year\n",
    "\n",
    "        if today < datetime.date(today.year, self.birthdate.month, self.birthdate.day):\n",
    "            age -= 1\n",
    "\n",
    "        self._age = age\n",
    "        return age\n",
    "person = Person(\n",
    "    \"Jane\",\n",
    "    \"Doe\",\n",
    "    datetime.date(1992, 3, 12), # year, month, day\n",
    "\"No. 12 Short Street, Greenville\",\n",
    "    \"555 456 0987\",\n",
    "    \"jane.doe@example.com\"\n",
    ")\n",
    "print(person.name)\n",
    "print(person.email)\n",
    "print(person.age())\n",
    "\n"
   ]
  },
  {
   "cell_type": "code",
   "execution_count": 10,
   "metadata": {},
   "outputs": [
    {
     "name": "stdout",
     "output_type": "stream",
     "text": [
      "7.0\n"
     ]
    }
   ],
   "source": [
    "class Numbers:\n",
    "    MULTIPLIER = 3.5\n",
    "\n",
    "    def __init__(self, x, y):\n",
    "        self.x = x\n",
    "        self.y = y\n",
    "\n",
    "    def add(self):\n",
    "        return self.x + self.y\n",
    "\n",
    "    @classmethod\n",
    "    def multiply(cls, a):\n",
    "        return cls.MULTIPLIER * a\n",
    "\n",
    "    @staticmethod\n",
    "    def subtract(b, c):\n",
    "        return b - c\n",
    "\n",
    "    @property\n",
    "    def value(self):\n",
    "        return (self.x, self.y)\n",
    "\n",
    "    @value.setter\n",
    "    def value(self, xy_tuple):\n",
    "        self.x, self.y = xy_tuple\n",
    "\n",
    "    @value.deleter\n",
    "    def value(self):\n",
    "        del self.x\n",
    "        del self.y\n",
    "p=Numbers(2,3)\n",
    "print(p.multiply(2))"
   ]
  },
  {
   "cell_type": "code",
   "execution_count": 14,
   "metadata": {},
   "outputs": [
    {
     "name": "stdout",
     "output_type": "stream",
     "text": [
      "['cat']\n",
      "['cat']\n",
      "['cat']\n",
      "[]\n"
     ]
    }
   ],
   "source": [
    "class Person:\n",
    "\n",
    "    TITLES = ('Dr', 'Mr', 'Mrs', 'Ms')\n",
    "\n",
    "    def __init__(self, title, name, surname):\n",
    "        if title not in self.TITLES:\n",
    "            raise ValueError(\"%s is not a valid title.\" % title)\n",
    "\n",
    "        self.title = title\n",
    "        self.name = name\n",
    "        self.surname = surname\n",
    "\n",
    "#Class attributes can be accessed by the following methods:\n",
    "#person.TITLES\n",
    "\n",
    "# but we can also access it from the class\n",
    "Person.TITLES \n",
    "\n",
    "#Class attributes can also sometimes be used to provide default attribute values:\n",
    "class Person:\n",
    "    deceased = False\n",
    "\n",
    "    def mark_as_deceased(self):\n",
    "        self.deceased = True  \n",
    "\n",
    "#Overriding methods:\n",
    "#======================\n",
    "\n",
    "class Person:\n",
    "    pets = []\n",
    "\n",
    "    def add_pet(self, pet):\n",
    "        self.pets.append(pet)\n",
    "\n",
    "jane = Person()\n",
    "bob = Person()\n",
    "\n",
    "jane.add_pet(\"cat\")\n",
    "print(jane.pets)\n",
    "print(bob.pets) \n",
    "\n",
    "class Person:\n",
    "\n",
    "    def __init__(self):\n",
    "        self.pets = []\n",
    "\n",
    "    def add_pet(self, pet):\n",
    "        self.pets.append(pet)\n",
    "\n",
    "jane = Person()\n",
    "bob = Person()\n",
    "\n",
    "jane.add_pet(\"cat\")\n",
    "print(jane.pets)\n",
    "print(bob.pets)\n"
   ]
  },
  {
   "cell_type": "code",
   "execution_count": 15,
   "metadata": {},
   "outputs": [
    {
     "name": "stdout",
     "output_type": "stream",
     "text": [
      "Name: Karthika\n",
      "Age: 22\n",
      "Gender: Female\n",
      "Class: None\n",
      "Enter the marks of the respective subjects\n",
      "Literature: 80\n",
      "Math: 89\n",
      "Biology: 88\n",
      "Physics: 87\n",
      "\n",
      "\n",
      "Name:  Karthika\n",
      "Age:  22\n",
      "Gender:  Female\n",
      "Study in:  None\n",
      "Total Marks:  344\n"
     ]
    }
   ],
   "source": [
    "class student:\n",
    "    # Method\n",
    "    def getStudent(self):\n",
    "        self.name = input(\"Name: \")\n",
    "        self.age = input(\"Age: \")\n",
    "        self.gender = input(\"Gender: \")\n",
    "\n",
    "# Define a class as 'test' and inherit base class 'student'\n",
    "class test(student):\n",
    "    # Method\n",
    "    def getMarks(self):\n",
    "        self.stuClass = input(\"Class: \")\n",
    "        print(\"Enter the marks of the respective subjects\")\n",
    "        self.literature = int(input(\"Literature: \"))\n",
    "        self.math = int(input(\"Math: \"))\n",
    "        self.biology = int(input(\"Biology: \"))\n",
    "        self.physics = int(input(\"Physics: \"))\n",
    "\n",
    "# Define a class as 'marks' and inherit derived class 'test'\n",
    "class marks(test):\n",
    "    # Method\n",
    "    def display(self):\n",
    "        print(\"\\n\\nName: \",self.name)\n",
    "        print(\"Age: \",self.age)\n",
    "        print(\"Gender: \",self.gender)\n",
    "        print(\"Study in: \",self.stuClass)\n",
    "        print(\"Total Marks: \", self.literature + self.math + self.biology + self.physics)\n",
    "\n",
    "\n",
    "m1 = marks()\n",
    "# Call base class method 'getStudent()'\n",
    "m1.getStudent()\n",
    "# Call first derived class method 'getMarks()'\n",
    "m1.getMarks()\n",
    "# Call second derived class method 'display()'\n",
    "m1.display()\n"
   ]
  },
  {
   "cell_type": "code",
   "execution_count": 17,
   "metadata": {},
   "outputs": [
    {
     "name": "stdout",
     "output_type": "stream",
     "text": [
      "James-HS\n",
      " Carmelite is high school name\n"
     ]
    }
   ],
   "source": [
    "\n",
    "students=[]\n",
    "\n",
    "class Student:\n",
    "    school_name= \"Oxford\"\n",
    "    def __init__(self,name,student_id=332):\n",
    "        self.name=name\n",
    "        self.student_id=student_id\n",
    "        students.append(self)\n",
    "\n",
    "    def __str__(self):\n",
    "        return \"Student \" + self.name\n",
    "\n",
    "    def get_name_capitalize(self):\n",
    "        return self.name.capitalize()\n",
    "\n",
    "    def get_school_name(self):\n",
    "        return self.school_name\n",
    "\n",
    "\n",
    "\n",
    "class HighSchoolStudent(Student):\n",
    "    college_name = \"High-school\"\n",
    "\n",
    "\n",
    "#overiding methods\n",
    "\n",
    "    def get_school_name(self):\n",
    "        return \" Carmelite is high school name\"\n",
    "\n",
    "    def get_name_capitalize(self):\n",
    "        original_value=super().get_name_capitalize()\n",
    "        return original_value + \"-HS\"\n",
    "#creating a new instance\n",
    "\n",
    "james = HighSchoolStudent(\"James\")\n",
    "print(james.get_name_capitalize())\n",
    "\n",
    "print(james.get_school_name())"
   ]
  },
  {
   "cell_type": "code",
   "execution_count": 28,
   "metadata": {},
   "outputs": [
    {
     "name": "stdout",
     "output_type": "stream",
     "text": [
      "Employee.__doc__: Common base class for all employees\n",
      "Employee.__name__: Employee\n",
      "Employee.__module__: __main__\n",
      "Employee.__bases__: (<class 'object'>,)\n",
      "Employee.__dict__: {'__module__': '__main__', '__doc__': 'Common base class for all employees', 'empCount': 0, '__init__': <function Employee.__init__ at 0x0000013295F5F598>, 'displayCount': <function Employee.displayCount at 0x0000013295F5F620>, 'displayEmployee': <function Employee.displayEmployee at 0x0000013295F5F6A8>, '__dict__': <attribute '__dict__' of 'Employee' objects>, '__weakref__': <attribute '__weakref__' of 'Employee' objects>}\n"
     ]
    }
   ],
   "source": [
    "class Employee:\n",
    "...    'Common base class for all employees'\n",
    "...    empCount = 0\n",
    "...    def __init__(self, name, salary):\n",
    "...       self.name = name \n",
    "...       self.salary = salary\n",
    "...       Employee.empCount += 1\n",
    "...\n",
    "...    def displayCount(self):\n",
    "...      print (\"Total Employee %d\" % Employee.empCount)\n",
    "...    def displayEmployee(self):\n",
    "...       print (\"Name : \", self.name,  \", Salary: \", self.salary)\n",
    "  \n",
    "print (\"Employee.__doc__:\", Employee.__doc__)\n",
    "print (\"Employee.__name__:\", Employee.__name__)\n",
    "print (\"Employee.__module__:\", Employee.__module__)\n",
    "print (\"Employee.__bases__:\", Employee.__bases__)\n",
    "print (\"Employee.__dict__:\", Employee.__dict__)"
   ]
  },
  {
   "cell_type": "code",
   "execution_count": 29,
   "metadata": {},
   "outputs": [
    {
     "name": "stdout",
     "output_type": "stream",
     "text": [
      "Name :  clara , Salary:  4000\n",
      "Name :  Zara , Salary:  2000\n",
      "Employee count 4\n"
     ]
    }
   ],
   "source": [
    "emp1 = Employee(\"Zara\", 2000)\n",
    "emp1 = Employee(\"clara\",4000)\n",
    "emp1 = Employee(\"clara\",4000)\n",
    "emp2 = Employee(\"Zara\", 2000)\n",
    "emp1.displayEmployee()\n",
    "emp2.displayEmployee()\n",
    "print(\"Employee count %d\" % Employee.empCount)"
   ]
  },
  {
   "cell_type": "code",
   "execution_count": 42,
   "metadata": {},
   "outputs": [
    {
     "name": "stdout",
     "output_type": "stream",
     "text": [
      "Total Students 1\n",
      "Name:  Mary , Rollno :  1001\n",
      "Total Students 1\n",
      "Name:  Zaria , Rollno :  2001\n"
     ]
    }
   ],
   "source": [
    "class  Student:\n",
    "    studCount = 0\n",
    "    def __init__(self,name,rollno):\n",
    "        self.name=name\n",
    "        self.rollno=rollno\n",
    "        self.studCount += 1\n",
    "    def displaycount(self):\n",
    "        print(\"Total Students %d\" % self.studCount)\n",
    "    def  displayStudent(self):\n",
    "        print(\"Name: \",self.name, \", Rollno : \", self.rollno)\n",
    "\n",
    "stud1 = Student(\"Mary\",1001)\n",
    "stud2 = Student(\"Zaria\",2001)\n",
    "stud1.displaycount()\n",
    "stud1.displayStudent()\n",
    "stud2.displaycount()\n",
    "stud2.displayStudent()"
   ]
  },
  {
   "cell_type": "code",
   "execution_count": 43,
   "metadata": {},
   "outputs": [
    {
     "name": "stdout",
     "output_type": "stream",
     "text": [
      "Enter side 1 : 2\n",
      "Enter side 2 : 3\n",
      "Enter side 3 : 4\n",
      "Enter side 4 : 5\n",
      "Enter side 5 : 1\n",
      "Side 1 is 2.0\n",
      "Side 2 is 3.0\n",
      "Side 3 is 4.0\n",
      "Side 4 is 5.0\n",
      "Side 5 is 1.0\n"
     ]
    }
   ],
   "source": [
    "class Polygon:\n",
    "    def __init__(self, no_of_sides):\n",
    "        self.n = no_of_sides\n",
    "        self.sides = [0 for i in range(no_of_sides)]\n",
    "\n",
    "    def inputSides(self):\n",
    "        self.sides = [float(input(\"Enter side \"+str(i+1)+\" : \")) for i in range(self.n)]\n",
    "\n",
    "    def dispSides(self):\n",
    "        for i in range(self.n):\n",
    "            print(\"Side\",i+1,\"is\",self.sides[i])\n",
    "b=Polygon(5)\n",
    "b.inputSides()\n",
    "b.dispSides()"
   ]
  },
  {
   "cell_type": "code",
   "execution_count": 47,
   "metadata": {},
   "outputs": [
    {
     "name": "stdout",
     "output_type": "stream",
     "text": [
      "Hello customer\n"
     ]
    }
   ],
   "source": [
    "class Bank:\n",
    "    \"This is a bankingdata\"\n",
    "    custid=100\n",
    "    def fun(self):\n",
    "            print('Hello customer')\n",
    "bankobj = Bank()\n",
    "bankobj.fun()"
   ]
  },
  {
   "cell_type": "code",
   "execution_count": 51,
   "metadata": {},
   "outputs": [
    {
     "name": "stdout",
     "output_type": "stream",
     "text": [
      "Point destroyed\n"
     ]
    }
   ],
   "source": [
    "class Point:\n",
    "    def __init( self, x=2, y=3):\n",
    "        self.x = x\n",
    "        self.y = y\n",
    "    def __del__(self):\n",
    "        class_name = self.__class__.__name__\n",
    "        print(class_name, \"destroyed\")\n",
    "\n",
    "pt1 = Point()\n",
    "pt2 = pt1\n",
    "pt3 = pt1\n",
    "#print id(pt1), id(pt2), id(pt3) # prints the ids of the obejcts\n",
    "del pt1\n",
    "del pt2\n",
    "del pt3"
   ]
  },
  {
   "cell_type": "code",
   "execution_count": 59,
   "metadata": {},
   "outputs": [
    {
     "name": "stdout",
     "output_type": "stream",
     "text": [
      "total Customer  1\n",
      "the age is  30\n",
      "Name : Lara No: 10 Age: 30\n"
     ]
    }
   ],
   "source": [
    "class Customer:\n",
    "    cust_count=0\n",
    "    def __init__(self,no,name):\n",
    "        self.custno=no\n",
    "        self.custname=name\n",
    "        self.cust_count +=1\n",
    "    def setattr(self,age):\n",
    "        self.age=age\n",
    "    def getattr(self):\n",
    "        print(\"the age is \",self.age)\n",
    "        \n",
    "    def display_count(self):\n",
    "        print(\"total Customer \",self.cust_count)\n",
    "    def display_Customer(self):\n",
    "        print (\"Name :\",self.custname,\"No:\",self.custno,\"Age:\",self.age)\n",
    "\n",
    "cust1=Customer(10,\"Lara\")\n",
    "cust1.setattr(30)\n",
    "cust1.display_count()\n",
    "cust1.getattr()\n",
    "cust1.display_Customer()"
   ]
  },
  {
   "cell_type": "code",
   "execution_count": 60,
   "metadata": {},
   "outputs": [
    {
     "name": "stdout",
     "output_type": "stream",
     "text": [
      "eating\n",
      "barking\n"
     ]
    }
   ],
   "source": [
    "class Animal:\n",
    "    def eat(self):\n",
    "        print(\"eating\")\n",
    "class Dog(Animal):\n",
    "    def bark(self):\n",
    "           print(\"barking\")\n",
    "d=Dog()\n",
    "d.eat()\n",
    "d.bark()"
   ]
  },
  {
   "cell_type": "code",
   "execution_count": 62,
   "metadata": {},
   "outputs": [
    {
     "name": "stdout",
     "output_type": "stream",
     "text": [
      "1\n",
      "2\n"
     ]
    }
   ],
   "source": [
    "class JustCounter:\n",
    "    __secretCount = 0\n",
    "  \n",
    "    def count(self):\n",
    "        self.__secretCount += 1\n",
    "        print (self.__secretCount)\n",
    "\n",
    "counter = JustCounter()\n",
    "counter.count()\n",
    "counter.count()\n"
   ]
  },
  {
   "cell_type": "code",
   "execution_count": 63,
   "metadata": {},
   "outputs": [
    {
     "name": "stdout",
     "output_type": "stream",
     "text": [
      "(1,5)\n"
     ]
    }
   ],
   "source": [
    "class Point:\n",
    "    def __init__(self, x = 0, y = 0):\n",
    "        self.x = x\n",
    "        self.y = y\n",
    "    \n",
    "    def __str__(self):\n",
    "        return \"({0},{1})\".format(self.x,self.y)\n",
    "    \n",
    "    def __add__(self,other):\n",
    "        x = self.x + other.x\n",
    "        y = self.y + other.y\n",
    "        return Point(x,y)\n",
    "p1 = Point(2,3)\n",
    "p2 = Point(-1,2)\n",
    "print(p1 + p2)"
   ]
  },
  {
   "cell_type": "code",
   "execution_count": 70,
   "metadata": {},
   "outputs": [
    {
     "name": "stdout",
     "output_type": "stream",
     "text": [
      "Enter side 1 : 2\n",
      "Enter side 2 : 3\n",
      "Enter side 3 : 4\n",
      "Side 1 is 2.0\n",
      "Side 2 is 3.0\n",
      "Side 3 is 4.0\n",
      "The area of the triangle is 2.90\n"
     ]
    }
   ],
   "source": [
    "class Polygon:\n",
    "    def __init__(self, no_of_sides):\n",
    "        self.n = no_of_sides\n",
    "        self.sides = [0 for i in range(no_of_sides)]\n",
    "\n",
    "    def inputSides(self):\n",
    "        self.sides = [float(input(\"Enter side \"+str(i+1)+\" : \"))for i in range(self.n)]\n",
    "\n",
    "    def dispSides(self):\n",
    "        for i in range(self.n):\n",
    "            print(\"Side\",i+1,\"is\",self.sides[i])\n",
    "\n",
    "class Triangle(Polygon):\n",
    "    def __init__(self):\n",
    "        Polygon.__init__(self,3)\n",
    "\n",
    "    def findArea(self):\n",
    "        a, b, c = self.sides\n",
    "        # calculate the semi-perimeter\n",
    "        s = (a + b + c) / 2\n",
    "        area = (s*(s-a)*(s-b)*(s-c)) ** 0.5\n",
    "        print('The area of the triangle is %0.2f' %area)\n",
    "\n",
    "t = Triangle()\n",
    "\n",
    "t.inputSides()\n",
    "\n",
    "t.dispSides()\n",
    "\n",
    "t.findArea()\n"
   ]
  },
  {
   "cell_type": "code",
   "execution_count": null,
   "metadata": {},
   "outputs": [],
   "source": []
  }
 ],
 "metadata": {
  "kernelspec": {
   "display_name": "Python 3",
   "language": "python",
   "name": "python3"
  },
  "language_info": {
   "codemirror_mode": {
    "name": "ipython",
    "version": 3
   },
   "file_extension": ".py",
   "mimetype": "text/x-python",
   "name": "python",
   "nbconvert_exporter": "python",
   "pygments_lexer": "ipython3",
   "version": "3.7.3"
  }
 },
 "nbformat": 4,
 "nbformat_minor": 2
}
