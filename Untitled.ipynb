{
 "cells": [
  {
   "cell_type": "code",
   "execution_count": 79,
   "metadata": {},
   "outputs": [],
   "source": [
    "stream=[1,3,2,1,2,3,4,3,1,2,3,1]\n",
    "data=[4, 1, 7, 4, 2, 7, 6, 5, 3, 2, 4, 7 ,1]\n",
    "def hash(x):\n",
    "    return(((6*x)+1)%5)\n",
    "def get_rightmost_set_bit(n: int) -> int:\n",
    "    if n==0:\n",
    "        return 0\n",
    "    return int(math.log2(n & -n) + 1) - 1\n",
    "def distinct(x):\n",
    "    l=[]\n",
    "    for i in x:\n",
    "        y = hash(i)\n",
    "        \n",
    "        k = get_rightmost_set_bit(y)\n",
    "        l.append(k)\n",
    "    b=max(l)\n",
    "    return(2**b)"
   ]
  },
  {
   "cell_type": "code",
   "execution_count": 80,
   "metadata": {},
   "outputs": [
    {
     "data": {
      "text/plain": [
       "4"
      ]
     },
     "execution_count": 80,
     "metadata": {},
     "output_type": "execute_result"
    }
   ],
   "source": [
    "distinct(stream)"
   ]
  },
  {
   "cell_type": "code",
   "execution_count": null,
   "metadata": {},
   "outputs": [],
   "source": []
  },
  {
   "cell_type": "code",
   "execution_count": 81,
   "metadata": {},
   "outputs": [],
   "source": [
    "L = 64\n",
    "PHI=1\n",
    "import math\n",
    "\n",
    "def get_rightmost_set_bit(n: int) -> int:\n",
    "    if n == 0:\n",
    "        return 0\n",
    "    return int(math.log2(n & -n) + 1) - 1\n",
    "\n",
    "\n",
    "def get_rightmost_unset_bit(n: int) -> int:\n",
    "    return get_rightmost_set_bit(~n)\n",
    "\n",
    "\n",
    "def set_bit(n: int, pos: int) -> int:\n",
    "    return n | 1 << pos\n",
    "\n"
   ]
  },
  {
   "cell_type": "code",
   "execution_count": 82,
   "metadata": {},
   "outputs": [],
   "source": [
    "import random\n",
    "\n",
    "\n",
    "def generate_random_stream(total_distinct: int):\n",
    "    values = list(range(total_distinct))\n",
    "    while True:\n",
    "        yield random.choice(values)"
   ]
  },
  {
   "cell_type": "code",
   "execution_count": 83,
   "metadata": {},
   "outputs": [],
   "source": [
    "def count_distinct_true(stream) -> int:\n",
    "    return len(set(stream))"
   ]
  },
  {
   "cell_type": "code",
   "execution_count": 84,
   "metadata": {},
   "outputs": [],
   "source": [
    "import hashlib\n",
    "\n",
    "def hash_fn(m: int, n: int, x: int, L: int) -> int:\n",
    "    return (m*x + n) % (2 ** L)"
   ]
  },
  {
   "cell_type": "code",
   "execution_count": 85,
   "metadata": {},
   "outputs": [
    {
     "data": {
      "text/plain": [
       "0"
      ]
     },
     "execution_count": 85,
     "metadata": {},
     "output_type": "execute_result"
    }
   ],
   "source": [
    "get_rightmost_set_bit(3)"
   ]
  },
  {
   "cell_type": "code",
   "execution_count": 86,
   "metadata": {},
   "outputs": [
    {
     "data": {
      "text/plain": [
       "1"
      ]
     },
     "execution_count": 86,
     "metadata": {},
     "output_type": "execute_result"
    }
   ],
   "source": [
    "get_rightmost_unset_bit(5)"
   ]
  },
  {
   "cell_type": "code",
   "execution_count": 87,
   "metadata": {},
   "outputs": [],
   "source": [
    "\n",
    "def count_distinct_fm(stream) -> int:\n",
    "    params = []\n",
    "    for _ in range(7):\n",
    "        params.append((2 * random.randint(0, 5) + 1, 2 * random.randint(0, 5) + 1))\n",
    "\n",
    "    estimates = []\n",
    "    for m, n in params:\n",
    "        vector, b = 0, 0\n",
    "        for x in stream:\n",
    "            y = hash_fn(m, n, x, L)\n",
    "            i = get_rightmost_set_bit(y)\n",
    "            vector = set_bit(vector, i)\n",
    "\n",
    "        b = get_rightmost_unset_bit(vector)\n",
    "        estimates.append(math.ceil((2 ** b) / PHI))\n",
    "    print(sum(estimates) / len(estimates))"
   ]
  },
  {
   "cell_type": "code",
   "execution_count": 94,
   "metadata": {},
   "outputs": [
    {
     "name": "stdout",
     "output_type": "stream",
     "text": [
      "9.142857142857142\n"
     ]
    }
   ],
   "source": [
    "count_distinct_fm([4, 1, 7, 4, 2, 7, 6, 5, 3, 2, 4, 7 ,1])"
   ]
  },
  {
   "cell_type": "code",
   "execution_count": 90,
   "metadata": {},
   "outputs": [
    {
     "ename": "SyntaxError",
     "evalue": "can't use starred expression here (<ipython-input-90-23806be49d71>, line 22)",
     "output_type": "error",
     "traceback": [
      "\u001b[1;36m  File \u001b[1;32m\"<ipython-input-90-23806be49d71>\"\u001b[1;36m, line \u001b[1;32m22\u001b[0m\n\u001b[1;33m    # we initialize the bit vector\u001b[0m\n\u001b[1;37m                    ^\u001b[0m\n\u001b[1;31mSyntaxError\u001b[0m\u001b[1;31m:\u001b[0m can't use starred expression here\n"
     ]
    }
   ],
   "source": [
    "L = 64\n",
    "PHI=1\n",
    "import math\n",
    "\n",
    "def get_rightmost_set_bit(n: int) -> int:\n",
    "    if n == 0:\n",
    "        return L\n",
    "    return int(math.log2(n & -n) + 1) - 1\n",
    "\n",
    "\n",
    "def get_rightmost_unset_bit(n: int) -> int:\n",
    "    return get_rightmost_set_bit(~n)\n",
    "\n",
    "\n",
    "def set_bit(n: int, pos: int) -> int:\n",
    "    return n | 1 << pos\n",
    "\n",
    "def hash_fn(x: int):\n",
    "    return ( * x + 10) % (2 ** L)\n",
    "\n",
    "def cardinality_fm(stream) -> int:\n",
    "    # we initialize the bit vector\n",
    "    vector = 0\n",
    "\n",
    "    # for every element in the stream\n",
    "    for x in stream:\n",
    "        \n",
    "        # compute the hash value bounded by (2 ** L)\n",
    "        # this hash value will ensure uniform distribution\n",
    "        # of elements of the stream in range [0, 2 ** L)\n",
    "        y = hash_fn(x)\n",
    "\n",
    "        # find the rightmost set bit\n",
    "        k = get_rightmost_set_bit(y)\n",
    "\n",
    "        # set the corresponding bit in the bit vector\n",
    "        vector = set_bit(vector, k)\n",
    "\n",
    "    # find the rightmost unset bit in the bit vector that\n",
    "    # suggests that the probability being 0\n",
    "    b = get_rightmost_unset_bit(vector)\n",
    "\n",
    "    # return the approximate cardinality\n",
    "    return (math.ceil((2 ** b) / PHI))"
   ]
  },
  {
   "cell_type": "code",
   "execution_count": 91,
   "metadata": {},
   "outputs": [
    {
     "ename": "NameError",
     "evalue": "name 'cardinality_fm' is not defined",
     "output_type": "error",
     "traceback": [
      "\u001b[1;31m---------------------------------------------------------------------------\u001b[0m",
      "\u001b[1;31mNameError\u001b[0m                                 Traceback (most recent call last)",
      "\u001b[1;32m<ipython-input-91-bf34ef95704f>\u001b[0m in \u001b[0;36m<module>\u001b[1;34m\u001b[0m\n\u001b[1;32m----> 1\u001b[1;33m \u001b[0mcardinality_fm\u001b[0m\u001b[1;33m(\u001b[0m\u001b[1;33m[\u001b[0m\u001b[1;36m4\u001b[0m\u001b[1;33m,\u001b[0m \u001b[1;36m1\u001b[0m\u001b[1;33m,\u001b[0m \u001b[1;36m7\u001b[0m\u001b[1;33m,\u001b[0m \u001b[1;36m4\u001b[0m\u001b[1;33m,\u001b[0m \u001b[1;36m2\u001b[0m\u001b[1;33m,\u001b[0m \u001b[1;36m7\u001b[0m\u001b[1;33m,\u001b[0m \u001b[1;36m6\u001b[0m\u001b[1;33m,\u001b[0m \u001b[1;36m5\u001b[0m\u001b[1;33m,\u001b[0m \u001b[1;36m3\u001b[0m\u001b[1;33m,\u001b[0m \u001b[1;36m2\u001b[0m\u001b[1;33m,\u001b[0m \u001b[1;36m4\u001b[0m\u001b[1;33m,\u001b[0m \u001b[1;36m7\u001b[0m \u001b[1;33m,\u001b[0m\u001b[1;36m1\u001b[0m\u001b[1;33m]\u001b[0m\u001b[1;33m)\u001b[0m\u001b[1;33m\u001b[0m\u001b[1;33m\u001b[0m\u001b[0m\n\u001b[0m",
      "\u001b[1;31mNameError\u001b[0m: name 'cardinality_fm' is not defined"
     ]
    }
   ],
   "source": [
    "cardinality_fm([4, 1, 7, 4, 2, 7, 6, 5, 3, 2, 4, 7 ,1])"
   ]
  },
  {
   "cell_type": "code",
   "execution_count": 1,
   "metadata": {},
   "outputs": [
    {
     "name": "stdout",
     "output_type": "stream",
     "text": [
      "\n",
      "\n",
      "['a', 'b', 'c', 'd', 'e', 'f', 'g'] \n",
      "\n",
      "{2: 12, 3: 11, 4: 28, 5: 13, 6: 15, 7: 8, 0: 7, 1: 0}\n",
      "[['a', 'b'], ['a', 'c'], ['a', 'e'], ['a', 'f'], ['b', 'c'], ['b', 'd'], ['b', 'e'], ['b', 'f'], ['c', 'e'], ['c', 'f'], ['c', 'g'], ['d', 'e'], ['e', 'f'], ['f', 'g']] \n",
      "\n",
      "{6: 6, 0: 10, 4: 17, 7: 1, 1: 0, 2: 0, 3: 0, 5: 0}\n",
      "[['a', 'b', 'c'], ['a', 'c', 'e'], ['b', 'd', 'e'], ['c', 'f', 'g']] \n",
      "\n",
      "\n",
      "\n"
     ]
    }
   ],
   "source": [
    "import sys\n",
    "import re\n",
    "\n",
    "def pcy(inputfile, support, bucket_size):\n",
    "    \"\"\"\n",
    "    :type inputfile: This is the input file containing all transactions.\n",
    "    :type support: Integer that defines the minimum count to qualify as a frequent itemset.\n",
    "    :type bucket_size: This is the size of the hash table.\n",
    "    :rtype result: a tuple [fi: frequent itemsets, bucket counts]\n",
    "    \"\"\"\n",
    "    # need read entire data in every pass\n",
    "\n",
    "    result = {}\n",
    "    candidates = []\n",
    "    step = 1\n",
    "\n",
    "    while 1:\n",
    "        ans_one = pcy_pass_one(inputfile, candidates, support, bucket_size)\n",
    "        ans_two = pcy_pass_two(inputfile, ans_one, bucket_size)\n",
    "        result.setdefault(step, [])\n",
    "        result[step].append(ans_two[0])\n",
    "        if len(ans_two) == 1:\n",
    "            break\n",
    "        bucket = ans_one[1]\n",
    "        candidates = ans_two[2]\n",
    "        if not candidates:\n",
    "            break\n",
    "        result.setdefault(step+1, [])\n",
    "        result[step+1].append(bucket)\n",
    "        step += 1\n",
    "    display_result(result)\n",
    "    return result\n",
    "\n",
    "def display_result(result):\n",
    "    print (\"\\n\")\n",
    "    for (k, v) in result.items():\n",
    "        if k == 1:\n",
    "            itemsets = v[0]\n",
    "            tmp = []\n",
    "            for item in itemsets:\n",
    "                tmp.append(item[0])\n",
    "            print (tmp, \"\\n\")\n",
    "        else:\n",
    "            bucket_counts = v[0]\n",
    "            itemsets = v[1]\n",
    "            print (bucket_counts)\n",
    "            print (itemsets, \"\\n\")\n",
    "    print (\"\\n\")\n",
    "\n",
    "def pcy_pass_one(inputfile, candidates, support, bucket_size):\n",
    "    result = []\n",
    "    itemset_size = 1\n",
    "    if candidates:\n",
    "        itemset_size = len(candidates[0])\n",
    "    baskets = generate_baskets(inputfile)\n",
    "    item_counts = count_items(candidates, support, baskets)\n",
    "    frequent_items = generate_frequent_items(item_counts, support)\n",
    "    result.append(frequent_items)\n",
    "    pairs = generate_pairs(frequent_items, baskets, itemset_size + 1)\n",
    "    if not pairs:\n",
    "        return result\n",
    "    bucket = hash_pairs(pairs, baskets, bucket_size)\n",
    "    result.append(bucket)\n",
    "    bitmap = generate_bitmap(bucket, support)\n",
    "    bitmap_list = bitmap_to_list(bitmap, bucket_size)\n",
    "    result.append(bitmap)\n",
    "    return result\n",
    "\n",
    "def pcy_pass_two(inputfile, ans_one, bucket_size):\n",
    "    result = []\n",
    "    frequent_items = ans_one[0]\n",
    "    result.append(frequent_items)\n",
    "    if len(ans_one) == 1:\n",
    "        return result\n",
    "\n",
    "    bitmap = ans_one[2]\n",
    "    itemset_size = len(frequent_items[0]) + 1\n",
    "    baskets = generate_baskets(inputfile)\n",
    "    pairs = generate_pairs(frequent_items, baskets, itemset_size + 1)\n",
    "    bucket = maping_pairs_bucket(pairs, baskets, bucket_size)\n",
    "    for i in range(bucket_size):\n",
    "        bucket.setdefault(i, 0)\n",
    "    [(k,bucket[k]) for k in sorted(bucket.keys())]\n",
    "    bitmap_list = bitmap_to_list(bitmap, bucket_size)\n",
    "    candidates = []\n",
    "   \n",
    "    for i in range(bucket_size):\n",
    "        digit = bitmap_list[i]\n",
    "        if digit == 1:\n",
    "            for item in bucket[i]:\n",
    "                candidates.append(item)\n",
    "\n",
    "    result.append(bucket)\n",
    "    result.append(candidates)\n",
    "    return result\n",
    "\n",
    "\n",
    "def bitmap_to_list(bitmap, bucket_size):\n",
    "    bitmap_str = str(bin(bitmap))\n",
    "    slen = len(bitmap_str)\n",
    "    result = []\n",
    "    for i in range(0, slen - 2):\n",
    "        digit = int(bitmap_str[slen - 1 - i])\n",
    "        result.append(digit)\n",
    "    for i in range(0, bucket_size - (slen - 2) ):\n",
    "        result.append(0)\n",
    "    return result\n",
    "\n",
    "def generate_frequent_items(item_counts, support):\n",
    "    itemset_size = len(item_counts[0]) - 1\n",
    "    frequent_items = []\n",
    "    for item in item_counts:\n",
    "        if item[itemset_size] >= support:\n",
    "            frequent_items.append(item[:-1])\n",
    "    frequent_items.sort()\n",
    "    return frequent_items\n",
    "\n",
    "def count_items(candidates, support, baskets):\n",
    "    itemset_size = 1\n",
    "    result = []\n",
    "    if candidates:\n",
    "        itemset_size = len(candidates[0])\n",
    "\n",
    "    if not candidates:\n",
    "        ht_item = {}  \n",
    "        for basket in baskets:\n",
    "            for item in basket:\n",
    "                ht_item.setdefault(item, 0)\n",
    "                ht_item[item] += 1\n",
    "\n",
    "        for (item, count) in ht_item.items():\n",
    "            result.append([item, count])\n",
    "    else:\n",
    "        result = candidates\n",
    "    return result\n",
    "\n",
    "def generate_bitmap(bucket, support):\n",
    "    bitmap = 0\n",
    "    for (k, v) in bucket.items():\n",
    "        if v >= support:\n",
    "            bitmap += 1 << k\n",
    "    return bitmap\n",
    "\n",
    "# Just generate baskets here, not count\n",
    "def generate_baskets(inputfile):\n",
    "\n",
    "    inputdata = open('C:/Users/Karthika V. Nair/untitled.txt', 'r')\n",
    "\n",
    "    baskets = []\n",
    "    for line in inputdata:\n",
    "        basket = []\n",
    "        for item in line: # or basket[:-1] to delete '\\n'\n",
    "            if item == ' ' or item == ',' or item == '\\n':\n",
    "                continue\n",
    "            basket.append(item)\n",
    "        baskets.append(basket)\n",
    "    return baskets\n",
    "\n",
    "def maping_pairs_bucket(pairs, baskets, bucket_size):\n",
    "    pair_size = len(pairs[0])\n",
    "    ht_item_to_num = numbering(pairs)\n",
    "    count_pairs(pairs, baskets)\n",
    "    bucket = {} # key: bucket_no, value: pairs\n",
    "    for pair in pairs:\n",
    "        bucket_no = 1\n",
    "        for i in range(pair_size):\n",
    "            c = pair[i]\n",
    "            bucket_no *= ht_item_to_num[c]\n",
    "        bucket_no %= bucket_size\n",
    "\n",
    "        bucket.setdefault(bucket_no, [])\n",
    "        bucket[bucket_no].append(pair)\n",
    "    return bucket\n",
    "\n",
    "def hash_pairs(pairs, baskets, bucket_size):\n",
    "    pair_size = len(pairs[0])\n",
    "    bucket = maping_pairs_bucket(pairs, baskets, bucket_size)\n",
    "    for (k, v) in bucket.items():\n",
    "        count = 0\n",
    "        for item in v:\n",
    "            count += item[pair_size]\n",
    "        bucket[k] = count\n",
    "    for i in range(bucket_size):\n",
    "        bucket.setdefault(i, 0)\n",
    "    [(k,bucket[k]) for k in sorted(bucket.keys())]\n",
    "    return bucket\n",
    "\n",
    "\n",
    "\n",
    "def count_pairs(pairs, baskets):\n",
    "    # add count to each pair in-place\n",
    "    itemset_size = len(pairs[0])\n",
    "    for pair in pairs:\n",
    "        count = 0\n",
    "        for basket in baskets:\n",
    "            if len(basket) < itemset_size:\n",
    "                continue\n",
    "            inside = True\n",
    "            for i in range(len(pair)):\n",
    "                if pair[i] not in basket:\n",
    "                    inside = False\n",
    "                    break\n",
    "            if inside == True:\n",
    "                count += 1\n",
    "        pair.append(count)\n",
    "\n",
    "def numbering(pairs):\n",
    "    ht_item_to_num = {}\n",
    "    number = 1\n",
    "    for pair in pairs:      # O(n), since length of pair is constant\n",
    "        for c in pair:\n",
    "            if c not in ht_item_to_num.keys():\n",
    "                ht_item_to_num.setdefault(c, number)\n",
    "                number += 1\n",
    "    return ht_item_to_num\n",
    "\n",
    "def generate_singletons(itemsets):\n",
    "    ht = {}\n",
    "    for items in itemsets:\n",
    "        for item in items:\n",
    "            ht.setdefault(item, 0)\n",
    "    keys = ht.keys()\n",
    "    sorted(keys)\n",
    "    return keys\n",
    "\n",
    "def generate_pairs(frequent_items, baskets, itemset_size):\n",
    "    result = []\n",
    "    frequent_item_processed = []    # avoid case like ab ba\n",
    "    frequent_singletons = generate_singletons(frequent_items)\n",
    "    for frequent_item in frequent_items:\n",
    "        ht = {}\n",
    "        for basket in baskets:\n",
    "            if len(basket) < itemset_size + 1:\n",
    "                continue\n",
    "            inside = True\n",
    "            for item in frequent_item:\n",
    "                if item not in basket:\n",
    "                    inside = False\n",
    "                    break\n",
    "            if inside == True:\n",
    "\n",
    "                for item in basket:\n",
    "                    if (item not in frequent_singletons) or (item in frequent_item):\n",
    "                        continue\n",
    "                    ht.setdefault(item, 0)\n",
    "        keys = ht.keys()\n",
    "        sorted(keys)\n",
    "        for key in keys:\n",
    "            tmp = list(frequent_item)\n",
    "            tmp.extend(key)\n",
    "            tmp.sort()\n",
    "            if tmp not in result:\n",
    "                result.append(tmp)\n",
    "        frequent_item_processed.append(frequent_item)\n",
    "    true_result = []\n",
    "    for items in result:\n",
    "        inside = True\n",
    "        for i in range(len(items)):\n",
    "            tmp = list(items)\n",
    "            tmp.pop(i)\n",
    "            if tmp not in frequent_items:\n",
    "                inside = False\n",
    "                break\n",
    "        if inside == True:\n",
    "            true_result.append(items)\n",
    "    return true_result\n",
    "\n",
    "if __name__ == '__main__':\n",
    "    pcy(sys.argv[1], int(4), int(8))\n"
   ]
  },
  {
   "cell_type": "code",
   "execution_count": 39,
   "metadata": {},
   "outputs": [
    {
     "data": {
      "text/plain": [
       "12"
      ]
     },
     "execution_count": 39,
     "metadata": {},
     "output_type": "execute_result"
    }
   ],
   "source": [
    "y = \"\"\"aarathi_n563\"\"\"\n",
    "len(y)\n",
    "#y.count(\"#\")"
   ]
  },
  {
   "cell_type": "code",
   "execution_count": null,
   "metadata": {},
   "outputs": [],
   "source": []
  }
 ],
 "metadata": {
  "kernelspec": {
   "display_name": "Python 3",
   "language": "python",
   "name": "python3"
  },
  "language_info": {
   "codemirror_mode": {
    "name": "ipython",
    "version": 3
   },
   "file_extension": ".py",
   "mimetype": "text/x-python",
   "name": "python",
   "nbconvert_exporter": "python",
   "pygments_lexer": "ipython3",
   "version": "3.7.3"
  }
 },
 "nbformat": 4,
 "nbformat_minor": 2
}
